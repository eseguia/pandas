{
 "cells": [
  {
   "cell_type": "code",
   "execution_count": 2,
   "metadata": {},
   "outputs": [],
   "source": [
    "import numpy as np\n",
    "import pandas as pd"
   ]
  },
  {
   "cell_type": "code",
   "execution_count": 16,
   "metadata": {},
   "outputs": [
    {
     "name": "stdout",
     "output_type": "stream",
     "text": [
      "{'mean': [[3.0, 4.0, 5.0], [1.0, 4.0, 7.0], 4.0], 'variance': [[6.0, 6.0, 6.0], [0.6666666666666666, 0.6666666666666666, 0.6666666666666666], 6.666666666666667], 'standard deviation': [[2.449489742783178, 2.449489742783178, 2.449489742783178], [0.816496580927726, 0.816496580927726, 0.816496580927726], 2.581988897471611], 'max': [[6, 7, 8], [2, 5, 8], 8], 'min': [[0, 1, 2], [0, 3, 6], 0], 'sum': [[9, 12, 15], [3, 12, 21], 36]}\n"
     ]
    }
   ],
   "source": [
    "def calculate(list):\n",
    "    if len(list) < 9:\n",
    "        raise ValueError(\"List must contain nine numbers.\")\n",
    "    mat = np.array(list).reshape(3,3)\n",
    "    calculations = {}\n",
    "    mean = [mat.mean(axis =0).tolist(), mat.mean(axis=1).tolist(), mat.mean().tolist()]\n",
    "    var = [mat.var(axis =0).tolist(), mat.var(axis=1).tolist(), mat.var().tolist()]\n",
    "    std = [mat.std(axis =0).tolist(), mat.std(axis=1).tolist(), mat.std().tolist()]\n",
    "    maxim = [mat.max(axis =0).tolist(), mat.max(axis=1).tolist(), mat.max().tolist()]\n",
    "    minim = [mat.min(axis =0).tolist(), mat.min(axis=1).tolist(), mat.min().tolist()]\n",
    "    suma = [mat.sum(axis =0).tolist(), mat.sum(axis=1).tolist(), mat.sum().tolist()]\n",
    "    calculations['mean'] = mean\n",
    "    calculations['variance'] = var\n",
    "    calculations['standard deviation'] = std\n",
    "    calculations['max'] = maxim\n",
    "    calculations['min'] = minim\n",
    "    calculations['sum'] = suma\n",
    "    return calculations\n",
    "mat = [0,1,2,3,4,5,6,7,8]\n",
    "print(calculate(mat))"
   ]
  },
  {
   "cell_type": "code",
   "execution_count": null,
   "metadata": {},
   "outputs": [],
   "source": []
  }
 ],
 "metadata": {
  "kernelspec": {
   "display_name": "Python 3",
   "language": "python",
   "name": "python3"
  },
  "language_info": {
   "codemirror_mode": {
    "name": "ipython",
    "version": 3
   },
   "file_extension": ".py",
   "mimetype": "text/x-python",
   "name": "python",
   "nbconvert_exporter": "python",
   "pygments_lexer": "ipython3",
   "version": "3.8.3"
  }
 },
 "nbformat": 4,
 "nbformat_minor": 4
}
